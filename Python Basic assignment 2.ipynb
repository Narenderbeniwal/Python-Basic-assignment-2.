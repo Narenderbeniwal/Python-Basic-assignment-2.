{
 "cells": [
  {
   "cell_type": "raw",
   "metadata": {},
   "source": [
    "\n",
    "\n",
    "\n"
   ]
  },
  {
   "cell_type": "raw",
   "metadata": {},
   "source": [
    "Q 1.What are the two values of the Boolean data type? How do you write them?\n",
    "Soluton. The two values of boolean Data types are True & False. We will keep the first Latter of both the values Capital like: True, False"
   ]
  },
  {
   "cell_type": "raw",
   "metadata": {},
   "source": [
    "Q 2. What are the three different types of Boolean operators?\n",
    "Solution. Three differnt type of boolean operators are: \"And\", \"Or\", and \"Not\""
   ]
  },
  {
   "cell_type": "raw",
   "metadata": {},
   "source": [
    "Q 3. Make a list of each Boolean operator's truth tables (i.e. every possible combination of Boolean values for the operator and what it evaluate ).\n",
    "Solution:\n",
    "And Truth table \n",
    "A\tB\tQ\n",
    "0\t0\t0\n",
    "0\t1\t0\n",
    "1\t0\t0\n",
    "1\t1\t1\n",
    "Or Truth Table\n",
    "A\tB\tQ\n",
    "0\t0\t0\n",
    "0\t1\t1\n",
    "1\t0\t1\n",
    "1\t1\t1\n",
    "Not Truth Table\n",
    "A\tQ\n",
    "0\t1\n",
    "1\t0\n"
   ]
  },
  {
   "cell_type": "raw",
   "metadata": {},
   "source": [
    "Q 4. What are the values of the following expressions?\n",
    "(5 > 4) and (3 == 5)\n",
    "not (5 > 4)\n",
    "(5 > 4) or (3 == 5)\n",
    "not ((5 > 4) or (3 == 5))\n",
    "(True and True) and (True == False)\n",
    "(not False) or (not True)\n",
    "Sol: False\n",
    "    False\n",
    "    True\n",
    "    False\n",
    "    False\n",
    "    True\n",
    "    \n",
    "    "
   ]
  },
  {
   "cell_type": "raw",
   "metadata": {},
   "source": [
    "Q 5. What are the six comparison operators?\n",
    "Sol.   Six comparison operators are: > , < , >= , <= , === , and !== . "
   ]
  },
  {
   "cell_type": "raw",
   "metadata": {},
   "source": [
    "Q 6 . How do you tell the difference between the equal to and assignment operators?Describe a condition and when you would use one.\n",
    "Solution: =                                       \t==\n",
    "It is an assignment operator.\t                    It is a relational or comparison operator.\n",
    "It is used for assigning the value to a variable.\tIt is used for comparing two values. It returns 1                                                     if both the values are equal otherwise returns 0.\n",
    "                                                    1==1 True\n",
    "                                                     1==2 Faluse"
   ]
  },
  {
   "cell_type": "raw",
   "metadata": {},
   "source": [
    "Q 7. Identify the three blocks in this code:\n",
    "spam = 0\n",
    "if spam == 10:\n",
    "print('eggs')\n",
    "if spam > 5:\n",
    "print('bacon')\n",
    "else:\n",
    "print('ham')\n",
    "print('spam')\n",
    "print('spam')\n",
    "Sol: The three blocks are everything inside the if statement and the lines print('eggs'), print('bacon') and print('ham').\n",
    "\n",
    "spam = 10\n",
    "if spam == 10:\n",
    " print('eggs')\n",
    "if spam > 5:\n",
    " print('bacon')\n",
    "else:\n",
    " print('ham')\n",
    " print('spam')\n",
    " print('spam')\n",
    "\n"
   ]
  },
  {
   "cell_type": "code",
   "execution_count": 16,
   "metadata": {},
   "outputs": [
    {
     "name": "stdout",
     "output_type": "stream",
     "text": [
      "Greetings!\n"
     ]
    }
   ],
   "source": [
    "## Q 8. Write code that prints Hello if 1 is stored in spam, prints Howdy if 2 is stored in spam, and prints Greetings! if anything else is stored in spam.\n",
    "## Sol:\n",
    "spam = 6\n",
    "if spam==1:\n",
    "    print(\"Hello\")\n",
    "elif spam==2:\n",
    "    \n",
    "    print(\"Howdy\")\n",
    "else:\n",
    "    print(\"Greetings!\")\n",
    "\n"
   ]
  },
  {
   "cell_type": "raw",
   "metadata": {},
   "source": [
    " Q 9.If your programme is stuck in an endless loop, what keys you’ll press?\n",
    "Solution: Ctrl+C"
   ]
  },
  {
   "cell_type": "raw",
   "metadata": {},
   "source": [
    "Q 10. How can you tell the difference between break and continue?\n",
    "Solution: The main difference between break and continue is that break is used for immediate termination of loop. On the other hand, 'continue' terminate the current iteration and resumes the control to the next iteration of the loop."
   ]
  },
  {
   "cell_type": "raw",
   "metadata": {},
   "source": [
    "Q 11. In a for loop, what is the difference between range(10), range(0, 10), and range(0, 10, 1)?\n",
    "Solution: They all do the same thing. The range(10) call ranges from 0 up to (but not including) 10, range(0, 10) explicitly tells the loop to start at 0, and range(0, 10, 1) explicitly tells the loop to increase the variable by 1 on each iteration"
   ]
  },
  {
   "cell_type": "raw",
   "metadata": {},
   "source": [
    "Q 12. Write a short program that prints the numbers 1 to 10 using a for loop. Then write an equivalent program that prints the numbers 1 to 10 using a while loop.\n",
    "Solution: \n",
    "for i in range(1,11):\n",
    "    print(i)\n",
    "i = 1\n",
    "while i<=10:\n",
    "    print(i)\n",
    "    i = i+1"
   ]
  },
  {
   "cell_type": "raw",
   "metadata": {},
   "source": [
    "Q 13. If you had a function named bacon() inside a module named spam, how would you call it after importing spam?\n",
    "Solution:  spam.bacon()\n"
   ]
  },
  {
   "cell_type": "code",
   "execution_count": null,
   "metadata": {},
   "outputs": [],
   "source": []
  },
  {
   "cell_type": "code",
   "execution_count": null,
   "metadata": {},
   "outputs": [],
   "source": []
  }
 ],
 "metadata": {
  "kernelspec": {
   "display_name": "Python 3",
   "language": "python",
   "name": "python3"
  },
  "language_info": {
   "codemirror_mode": {
    "name": "ipython",
    "version": 3
   },
   "file_extension": ".py",
   "mimetype": "text/x-python",
   "name": "python",
   "nbconvert_exporter": "python",
   "pygments_lexer": "ipython3",
   "version": "3.8.5"
  }
 },
 "nbformat": 4,
 "nbformat_minor": 4
}
